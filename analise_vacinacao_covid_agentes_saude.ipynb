{
 "cells": [
  {
   "cell_type": "code",
   "execution_count": 37,
   "metadata": {},
   "outputs": [],
   "source": [
    "import pandas as pd\n",
    "import matplotlib.pyplot as plt\n",
    "import seaborn as sns\n",
    "import jinja2 as jinja\n"
   ]
  },
  {
   "cell_type": "code",
   "execution_count": 38,
   "metadata": {},
   "outputs": [
    {
     "name": "stdout",
     "output_type": "stream",
     "text": [
      "<class 'pandas.core.frame.DataFrame'>\n",
      "RangeIndex: 3407298 entries, 0 to 3407297\n",
      "Data columns (total 9 columns):\n",
      " #   Column           Dtype  \n",
      "---  ------           -----  \n",
      " 0   cpf              object \n",
      " 1   nome             object \n",
      " 2   sexo             object \n",
      " 3   grupo            object \n",
      " 4   vacina           object \n",
      " 5   lote             object \n",
      " 6   dose             float64\n",
      " 7   data_vacinacao   object \n",
      " 8   local_vacinacao  object \n",
      "dtypes: float64(1), object(8)\n",
      "memory usage: 234.0+ MB\n"
     ]
    },
    {
     "data": {
      "text/html": [
       "<div>\n",
       "<style scoped>\n",
       "    .dataframe tbody tr th:only-of-type {\n",
       "        vertical-align: middle;\n",
       "    }\n",
       "\n",
       "    .dataframe tbody tr th {\n",
       "        vertical-align: top;\n",
       "    }\n",
       "\n",
       "    .dataframe thead th {\n",
       "        text-align: right;\n",
       "    }\n",
       "</style>\n",
       "<table border=\"1\" class=\"dataframe\">\n",
       "  <thead>\n",
       "    <tr style=\"text-align: right;\">\n",
       "      <th></th>\n",
       "      <th>dose</th>\n",
       "    </tr>\n",
       "  </thead>\n",
       "  <tbody>\n",
       "    <tr>\n",
       "      <th>count</th>\n",
       "      <td>3.407297e+06</td>\n",
       "    </tr>\n",
       "    <tr>\n",
       "      <th>mean</th>\n",
       "      <td>1.723100e+00</td>\n",
       "    </tr>\n",
       "    <tr>\n",
       "      <th>std</th>\n",
       "      <td>7.341606e-01</td>\n",
       "    </tr>\n",
       "    <tr>\n",
       "      <th>min</th>\n",
       "      <td>1.000000e+00</td>\n",
       "    </tr>\n",
       "    <tr>\n",
       "      <th>25%</th>\n",
       "      <td>1.000000e+00</td>\n",
       "    </tr>\n",
       "    <tr>\n",
       "      <th>50%</th>\n",
       "      <td>2.000000e+00</td>\n",
       "    </tr>\n",
       "    <tr>\n",
       "      <th>75%</th>\n",
       "      <td>2.000000e+00</td>\n",
       "    </tr>\n",
       "    <tr>\n",
       "      <th>max</th>\n",
       "      <td>4.000000e+00</td>\n",
       "    </tr>\n",
       "  </tbody>\n",
       "</table>\n",
       "</div>"
      ],
      "text/plain": [
       "               dose\n",
       "count  3.407297e+06\n",
       "mean   1.723100e+00\n",
       "std    7.341606e-01\n",
       "min    1.000000e+00\n",
       "25%    1.000000e+00\n",
       "50%    2.000000e+00\n",
       "75%    2.000000e+00\n",
       "max    4.000000e+00"
      ]
     },
     "execution_count": 38,
     "metadata": {},
     "output_type": "execute_result"
    }
   ],
   "source": [
    "df = pd.read_csv('vacinados.csv' ,sep = ';' )\n",
    "df.info()\n",
    "df.describe()"
   ]
  },
  {
   "cell_type": "code",
   "execution_count": 39,
   "metadata": {},
   "outputs": [
    {
     "data": {
      "text/plain": [
       "0    TRABALHADORES INDUSTRIAIS E BANCÁRIOS\n",
       "1    TRABALHADORES INDUSTRIAIS E BANCÁRIOS\n",
       "2                   TRABALHADORES DA SAÚDE\n",
       "3                   TRABALHADORES DA SAÚDE\n",
       "4                   TRABALHADORES DA SAÚDE\n",
       "Name: grupo, dtype: object"
      ]
     },
     "execution_count": 39,
     "metadata": {},
     "output_type": "execute_result"
    }
   ],
   "source": [
    "df_trabalhadores_Saude = df[df['grupo'] == 'TRABALHADORES DA SAÚDE']\n",
    "df_local_trabalhador_Saude = df_trabalhadores_Saude[['local_vacinacao', 'grupo', 'sexo', 'dose']]\n",
    "df_local_trabalhador_Saude.head()"
   ]
  },
  {
   "cell_type": "code",
   "execution_count": 42,
   "metadata": {},
   "outputs": [
    {
     "name": "stdout",
     "output_type": "stream",
     "text": [
      "                                    local_vacinacao  contagem\n",
      "0       CENTRO DE SAÚDE BIDU KRAUSE (UNIDADE MÓVEL)         1\n",
      "1     POLICLÍNICA GOUVEIA DE BARROS (UNIDADE MÓVEL)        23\n",
      "2                       CENTRO DE SAÚDE BIDU KRAUSE        61\n",
      "3                        CENTRO DE SAÚDE BRUNO MAIA        59\n",
      "4        CENTRO DE SAÚDE BRUNO MAIA (UNIDADE MÓVEL)         1\n",
      "..                                              ...       ...\n",
      "128              UPINHA VILA ARRAES (UNIDADE MÓVEL)        15\n",
      "129                   USF COQUE BERILO PERNAMBUCANO        56\n",
      "130                            USF SÍTIO DOS PINTOS        72\n",
      "131            USF SÍTIO DOS PINTOS (UNIDADE MÓVEL)         1\n",
      "132                    VACINAÇÃO ESCOLAR ITINERANTE        81\n",
      "\n",
      "[133 rows x 2 columns]\n"
     ]
    }
   ],
   "source": [
    "resultado_local = df_local_trabalhador_Saude.groupby(['local_vacinacao']).size().reset_index(name='contagem')\n",
    "resultado_genero = df_local_trabalhador_Saude.groupby(['sexo']).size().reset_index(name='contagem')\n",
    "resultado_local_max = resultado_local.loc[resultado_local.groupby('local_vacinacao')['contagem'].idxmax()]\n",
    "resultado_genero_max = resultado_genero.loc[resultado_genero.groupby('sexo')['contagem'].idxmax()]\n",
    "print(resultado_local_max)"
   ]
  },
  {
   "cell_type": "code",
   "execution_count": 48,
   "metadata": {},
   "outputs": [
    {
     "name": "stdout",
     "output_type": "stream",
     "text": [
      "Tabela Comparativa:\n"
     ]
    },
    {
     "data": {
      "text/html": [
       "<style type=\"text/css\">\n",
       "#T_ba84b th {\n",
       "  background-color: black;\n",
       "  font-size: 14px;\n",
       "}\n",
       "#T_ba84b_row0_col0, #T_ba84b_row0_col1, #T_ba84b_row0_col2, #T_ba84b_row0_col3 {\n",
       "  background-color: blue;\n",
       "  background-color: black;\n",
       "  text-align: center;\n",
       "}\n",
       "</style>\n",
       "<table id=\"T_ba84b\" style=\"width: 80%; margin: auto;\">\n",
       "  <caption>Tabela Comparativa de Vacinação da Covid-19 dos trabalhadores da Área de Saúde:</caption>\n",
       "  <thead>\n",
       "    <tr>\n",
       "      <th class=\"blank level0\" >&nbsp;</th>\n",
       "      <th id=\"T_ba84b_level0_col0\" class=\"col_heading level0 col0\" >Local que mais se vacinou</th>\n",
       "      <th id=\"T_ba84b_level0_col1\" class=\"col_heading level0 col1\" >Gênero que mais se vacinou</th>\n",
       "      <th id=\"T_ba84b_level0_col2\" class=\"col_heading level0 col2\" >Contagem do Local</th>\n",
       "      <th id=\"T_ba84b_level0_col3\" class=\"col_heading level0 col3\" >Contagem do Gênero que mais se vacinou no geral</th>\n",
       "    </tr>\n",
       "  </thead>\n",
       "  <tbody>\n",
       "    <tr>\n",
       "      <th id=\"T_ba84b_level0_row0\" class=\"row_heading level0 row0\" >0</th>\n",
       "      <td id=\"T_ba84b_row0_col0\" class=\"data row0 col0\" >CENTRO DE VACINAÇÃO  COMPAZ ARIANO SUASSUNA</td>\n",
       "      <td id=\"T_ba84b_row0_col1\" class=\"data row0 col1\" >FEMININO</td>\n",
       "      <td id=\"T_ba84b_row0_col2\" class=\"data row0 col2\" >21291</td>\n",
       "      <td id=\"T_ba84b_row0_col3\" class=\"data row0 col3\" >208753</td>\n",
       "    </tr>\n",
       "  </tbody>\n",
       "</table>\n"
      ],
      "text/plain": [
       "<pandas.io.formats.style.Styler at 0x1c7457664d0>"
      ]
     },
     "execution_count": 48,
     "metadata": {},
     "output_type": "execute_result"
    }
   ],
   "source": [
    "local_max = resultado_local.loc[resultado_local_max['contagem'].idxmax()]\n",
    "local_min = resultado_local.loc[resultado_local_max['contagem'].idxmin()]\n",
    "genero_max = resultado_genero.loc[resultado_genero_max['contagem'].idxmax()]\n",
    "\n",
    "tabela_comparativa = pd.DataFrame({\n",
    "    'Local que mais se vacinou': [local_max['local_vacinacao']],\n",
    "    'Gênero que mais se vacinou': [genero_max['sexo']],\n",
    "    'Contagem do Local': [local_max['contagem']],\n",
    "    'Contagem do Gênero que mais se vacinou no geral': [genero_max['contagem']]\n",
    "})\n",
    "tabela_estilizada = tabela_comparativa.style \\\n",
    "    .set_table_attributes('style=\"width: 80%; margin: auto;\"') \\\n",
    "    .set_caption(\"Tabela Comparativa de Vacinação da Covid-19 dos trabalhadores da Área de Saúde:\") \\\n",
    "    .highlight_max(color='blue', axis=0) \\\n",
    "    .highlight_min(color='black', axis=0) \\\n",
    "    .set_properties(**{'text-align': 'center'}) \\\n",
    "    .set_table_styles([{\n",
    "        'selector': 'th',\n",
    "        'props': [('background-color', 'black'), ('font-size', '14px')]\n",
    "    }])\n",
    "print(\"Tabela Comparativa:\")\n",
    "tabela_estilizada"
   ]
  }
 ],
 "metadata": {
  "kernelspec": {
   "display_name": ".venv",
   "language": "python",
   "name": "python3"
  },
  "language_info": {
   "codemirror_mode": {
    "name": "ipython",
    "version": 3
   },
   "file_extension": ".py",
   "mimetype": "text/x-python",
   "name": "python",
   "nbconvert_exporter": "python",
   "pygments_lexer": "ipython3",
   "version": "3.11.3"
  }
 },
 "nbformat": 4,
 "nbformat_minor": 2
}
